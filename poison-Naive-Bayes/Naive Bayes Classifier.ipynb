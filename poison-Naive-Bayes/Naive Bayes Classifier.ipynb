{
 "cells": [
  {
   "cell_type": "markdown",
   "id": "4d3ec7c7",
   "metadata": {},
   "source": [
    "# Author:  Rahul Varma chintalapati"
   ]
  },
  {
   "cell_type": "code",
   "execution_count": null,
   "id": "7e1340d7",
   "metadata": {},
   "outputs": [],
   "source": [
    "import numpy as np\n",
    "import pandas as pd\n",
    "from sklearn.datasets import load_breast_cancer\n",
    "import matplotlib.pyplot as plt"
   ]
  },
  {
   "cell_type": "code",
   "execution_count": null,
   "id": "64a9442f",
   "metadata": {},
   "outputs": [],
   "source": [
    "df=load_breast_cancer()"
   ]
  },
  {
   "cell_type": "code",
   "execution_count": null,
   "id": "8238bed9",
   "metadata": {},
   "outputs": [],
   "source": [
    "df"
   ]
  },
  {
   "cell_type": "code",
   "execution_count": null,
   "id": "f63a2455",
   "metadata": {},
   "outputs": [],
   "source": [
    "x=df.data"
   ]
  },
  {
   "cell_type": "code",
   "execution_count": null,
   "id": "b45bfc52",
   "metadata": {},
   "outputs": [],
   "source": [
    "x"
   ]
  },
  {
   "cell_type": "code",
   "execution_count": null,
   "id": "4d90fded",
   "metadata": {},
   "outputs": [],
   "source": [
    "x.shape"
   ]
  },
  {
   "cell_type": "code",
   "execution_count": null,
   "id": "bb461ee4",
   "metadata": {},
   "outputs": [],
   "source": [
    "y=df.target"
   ]
  },
  {
   "cell_type": "code",
   "execution_count": null,
   "id": "589b2e6e",
   "metadata": {},
   "outputs": [],
   "source": [
    "y.shape"
   ]
  },
  {
   "cell_type": "code",
   "execution_count": null,
   "id": "1f13558c",
   "metadata": {},
   "outputs": [],
   "source": []
  },
  {
   "cell_type": "code",
   "execution_count": null,
   "id": "f21cc1f3",
   "metadata": {},
   "outputs": [],
   "source": []
  },
  {
   "cell_type": "code",
   "execution_count": null,
   "id": "c9be7e0e",
   "metadata": {},
   "outputs": [],
   "source": [
    "## train test split\n",
    "from sklearn.model_selection import train_test_split\n",
    "x_train, x_test, y_train, y_test = train_test_split(x, y, test_size = 0.3, random_state = 0)"
   ]
  },
  {
   "cell_type": "code",
   "execution_count": null,
   "id": "700c0a11",
   "metadata": {},
   "outputs": [],
   "source": [
    "print(x_train)"
   ]
  },
  {
   "cell_type": "code",
   "execution_count": null,
   "id": "a85a59ff",
   "metadata": {},
   "outputs": [],
   "source": [
    "print(y_train)"
   ]
  },
  {
   "cell_type": "code",
   "execution_count": null,
   "id": "4f8cf5a5",
   "metadata": {},
   "outputs": [],
   "source": [
    "## feature scaling\n",
    "from sklearn.preprocessing import StandardScaler\n",
    "sc = StandardScaler()\n",
    "x_train = sc.fit_transform(x_train)\n",
    "x_test = sc.transform(x_test)"
   ]
  },
  {
   "cell_type": "code",
   "execution_count": null,
   "id": "005ba8e8",
   "metadata": {},
   "outputs": [],
   "source": [
    "### Naive Bayes classifier\n",
    "from sklearn.naive_bayes import GaussianNB\n",
    "classifier = GaussianNB()\n",
    "classifier.fit(x_train, y_train)"
   ]
  },
  {
   "cell_type": "code",
   "execution_count": null,
   "id": "76a85544",
   "metadata": {},
   "outputs": [],
   "source": [
    "#Predicting test data\n",
    "y_pred = classifier.predict(x_test)\n",
    "print(np.concatenate((y_pred.reshape(len(y_pred),1), y_test.reshape(len(y_test),1)),1))"
   ]
  },
  {
   "cell_type": "markdown",
   "id": "8667cfae",
   "metadata": {},
   "source": [
    "# Prediction and accuracy with clean data"
   ]
  },
  {
   "cell_type": "code",
   "execution_count": null,
   "id": "1886a376",
   "metadata": {},
   "outputs": [],
   "source": [
    "## Confision matrix\n",
    "from sklearn.metrics import confusion_matrix, accuracy_score\n",
    "cm = confusion_matrix(y_test, y_pred)\n",
    "print(cm)\n",
    "accuracy_score(y_test, y_pred)"
   ]
  },
  {
   "cell_type": "markdown",
   "id": "4e0799eb",
   "metadata": {},
   "source": [
    "## Poisoning the data by adding gaussian noise"
   ]
  },
  {
   "cell_type": "code",
   "execution_count": null,
   "id": "79b91e09",
   "metadata": {},
   "outputs": [],
   "source": [
    "acc=[]\n",
    "acc.append(0.9122807017543859)"
   ]
  },
  {
   "cell_type": "code",
   "execution_count": null,
   "id": "6553cd1f",
   "metadata": {},
   "outputs": [],
   "source": [
    "### Adding gaussian noise mean 0 variance : 50 \n",
    "noise = np.random.normal(0, 50, [569,30]) \n",
    "x1=x+noise\n",
    "print(x1)"
   ]
  },
  {
   "cell_type": "code",
   "execution_count": null,
   "id": "52a4184d",
   "metadata": {},
   "outputs": [],
   "source": [
    "x1_train, x1_test, y1_train, y1_test = train_test_split(x1, y, test_size = 0.3, random_state = 0)"
   ]
  },
  {
   "cell_type": "code",
   "execution_count": null,
   "id": "1827f5af",
   "metadata": {},
   "outputs": [],
   "source": [
    "\n",
    "sc1 = StandardScaler()\n",
    "x1_train = sc1.fit_transform(x1_train)\n",
    "x1_test = sc1.transform(x1_test)"
   ]
  },
  {
   "cell_type": "code",
   "execution_count": null,
   "id": "dfbda248",
   "metadata": {},
   "outputs": [],
   "source": [
    "\n",
    "classifier1 = GaussianNB()\n",
    "classifier1.fit(x1_train, y1_train)"
   ]
  },
  {
   "cell_type": "code",
   "execution_count": null,
   "id": "6982e909",
   "metadata": {},
   "outputs": [],
   "source": [
    "y1_pred = classifier1.predict(x1_test)\n",
    "print(np.concatenate((y1_pred.reshape(len(y1_pred),1), y_test.reshape(len(y1_test),1)),1))"
   ]
  },
  {
   "cell_type": "markdown",
   "id": "73baff25",
   "metadata": {},
   "source": [
    "## Standard Deviation : 50 "
   ]
  },
  {
   "cell_type": "code",
   "execution_count": null,
   "id": "4ef7cb09",
   "metadata": {},
   "outputs": [],
   "source": [
    "cm1 = confusion_matrix(y1_test, y1_pred)\n",
    "print(cm1)\n",
    "a1=accuracy_score(y1_test, y1_pred)\n",
    "print(\"Poisoned data with variance 50 and mean zero has a test accuracy of : \", a1)\n",
    "acc.append(a1)"
   ]
  },
  {
   "cell_type": "code",
   "execution_count": null,
   "id": "87b5fe41",
   "metadata": {},
   "outputs": [],
   "source": [
    "### Adding gaussian noise mean 0 variance : 100\n",
    "noise = np.random.normal(0, 100, [569,30]) \n",
    "x2=x+noise\n",
    "print(x2)"
   ]
  },
  {
   "cell_type": "code",
   "execution_count": null,
   "id": "47e0f001",
   "metadata": {},
   "outputs": [],
   "source": [
    "x2_train, x2_test, y2_train, y2_test = train_test_split(x2, y, test_size = 0.3, random_state = 0)"
   ]
  },
  {
   "cell_type": "code",
   "execution_count": null,
   "id": "6b4d0b12",
   "metadata": {},
   "outputs": [],
   "source": [
    "sc2 = StandardScaler()\n",
    "x2_train = sc2.fit_transform(x2_train)\n",
    "x2_test = sc2.transform(x2_test)"
   ]
  },
  {
   "cell_type": "code",
   "execution_count": null,
   "id": "ccd040c5",
   "metadata": {},
   "outputs": [],
   "source": [
    "classifier2 = GaussianNB()\n",
    "classifier2.fit(x2_train, y2_train)"
   ]
  },
  {
   "cell_type": "code",
   "execution_count": null,
   "id": "ff6eee09",
   "metadata": {},
   "outputs": [],
   "source": [
    "y2_pred = classifier2.predict(x2_test)\n",
    "print(np.concatenate((y2_pred.reshape(len(y2_pred),1), y_test.reshape(len(y2_test),1)),1))"
   ]
  },
  {
   "cell_type": "markdown",
   "id": "18c3a32a",
   "metadata": {},
   "source": [
    "### Standard Deviation : 100"
   ]
  },
  {
   "cell_type": "code",
   "execution_count": null,
   "id": "a6efa9ea",
   "metadata": {},
   "outputs": [],
   "source": [
    "cm2 = confusion_matrix(y2_test, y2_pred)\n",
    "print(cm2)\n",
    "a2=accuracy_score(y2_test, y2_pred)\n",
    "print(\"Poisoned data with a varinace 100 and mean 0 has a test accuracy of: \", a2)\n",
    "acc.append(a2)"
   ]
  },
  {
   "cell_type": "code",
   "execution_count": null,
   "id": "75e8b110",
   "metadata": {},
   "outputs": [],
   "source": [
    "noise = np.random.normal(0, 200, [569,30]) \n",
    "x3=x+noise\n",
    "print(x3)\n",
    "x3_train, x3_test, y3_train, y3_test = train_test_split(x3, y, test_size = 0.3, random_state = 0)\n",
    "sc3 = StandardScaler()\n",
    "x3_train = sc3.fit_transform(x3_train)\n",
    "x3_test = sc3.transform(x3_test)"
   ]
  },
  {
   "cell_type": "code",
   "execution_count": null,
   "id": "0fe22ee7",
   "metadata": {},
   "outputs": [],
   "source": [
    "classifier3 = GaussianNB()\n",
    "classifier3.fit(x3_train, y3_train)\n",
    "y3_pred = classifier3.predict(x3_test)\n",
    "print(np.concatenate((y3_pred.reshape(len(y3_pred),1), y_test.reshape(len(y3_test),1)),1))"
   ]
  },
  {
   "cell_type": "markdown",
   "id": "8e4e27f6",
   "metadata": {},
   "source": [
    "## Standard Deviation : 200 "
   ]
  },
  {
   "cell_type": "code",
   "execution_count": null,
   "id": "1e3cffc6",
   "metadata": {},
   "outputs": [],
   "source": [
    "cm3 = confusion_matrix(y3_test, y3_pred)\n",
    "print(cm3)\n",
    "a3=accuracy_score(y3_test, y3_pred)\n",
    "print(\" the poisoned data with variance 200 and mean 0 has a test accuracy of :\", a3)\n",
    "acc.append(a3)"
   ]
  },
  {
   "cell_type": "code",
   "execution_count": null,
   "id": "2acb58cd",
   "metadata": {},
   "outputs": [],
   "source": [
    "noise = np.random.normal(0, 400, [569,30]) \n",
    "x4=x+noise\n",
    "print(x4)\n",
    "x4_train, x4_test, y4_train, y4_test = train_test_split(x4, y, test_size = 0.3, random_state = 0)\n",
    "sc4 = StandardScaler()\n",
    "x4_train = sc4.fit_transform(x4_train)\n",
    "x4_test = sc4.transform(x4_test)"
   ]
  },
  {
   "cell_type": "code",
   "execution_count": null,
   "id": "ae60fbd1",
   "metadata": {},
   "outputs": [],
   "source": [
    "classifier4 = GaussianNB()\n",
    "classifier4.fit(x4_train, y4_train)\n",
    "y4_pred = classifier4.predict(x4_test)\n",
    "print(np.concatenate((y4_pred.reshape(len(y4_pred),1), y_test.reshape(len(y4_test),1)),1))"
   ]
  },
  {
   "cell_type": "code",
   "execution_count": null,
   "id": "03a8b697",
   "metadata": {},
   "outputs": [],
   "source": [
    "cm4 = confusion_matrix(y4_test, y4_pred)\n",
    "print(cm4)\n",
    "a4=accuracy_score(y4_test, y4_pred)\n",
    "print(\"poisoned data with variance 400 and mean 0 has a test accuracy of :\", a4)\n",
    "acc.append(a4)"
   ]
  },
  {
   "cell_type": "code",
   "execution_count": null,
   "id": "6c4c4f28",
   "metadata": {},
   "outputs": [],
   "source": [
    "noise = np.random.normal(0, 800, [569,30]) \n",
    "x5=x+noise\n",
    "print(x5)\n",
    "x5_train, x5_test, y5_train, y5_test = train_test_split(x5, y, test_size = 0.3, random_state = 0)\n",
    "sc5 = StandardScaler()\n",
    "x5_train = sc5.fit_transform(x5_train)\n",
    "x5_test = sc5.transform(x5_test)"
   ]
  },
  {
   "cell_type": "code",
   "execution_count": null,
   "id": "c7b25ce4",
   "metadata": {},
   "outputs": [],
   "source": [
    "classifier5 = GaussianNB()\n",
    "classifier5.fit(x5_train, y5_train)\n",
    "y5_pred = classifier5.predict(x5_test)\n",
    "print(np.concatenate((y5_pred.reshape(len(y5_pred),1), y_test.reshape(len(y5_test),1)),1))"
   ]
  },
  {
   "cell_type": "code",
   "execution_count": null,
   "id": "1ec53447",
   "metadata": {},
   "outputs": [],
   "source": [
    "cm5 = confusion_matrix(y5_test, y5_pred)\n",
    "print(cm5)\n",
    "a5=accuracy_score(y5_test, y5_pred)\n",
    "print(\" the poisoned data with variance 800 and mean 0 has a test accuracy of :\", a5)\n",
    "acc.append(a5)"
   ]
  },
  {
   "cell_type": "code",
   "execution_count": null,
   "id": "67cb8c8a",
   "metadata": {},
   "outputs": [],
   "source": [
    "print(acc)"
   ]
  },
  {
   "cell_type": "code",
   "execution_count": null,
   "id": "4578e898",
   "metadata": {},
   "outputs": [],
   "source": [
    "var=[0,50,100,200,400,800]"
   ]
  },
  {
   "cell_type": "code",
   "execution_count": null,
   "id": "259fd18c",
   "metadata": {},
   "outputs": [],
   "source": [
    "plt.scatter(var, acc)\n",
    "for i in range(len(var)):\n",
    "    plt.annotate(\"   Std Dev'n : {} \".format(var[i]),(var[i],acc[i]))\n",
    "plt.show()"
   ]
  },
  {
   "cell_type": "code",
   "execution_count": null,
   "id": "739133a7",
   "metadata": {},
   "outputs": [],
   "source": []
  },
  {
   "cell_type": "code",
   "execution_count": null,
   "id": "88bb8eff",
   "metadata": {},
   "outputs": [],
   "source": []
  },
  {
   "cell_type": "code",
   "execution_count": null,
   "id": "9370ded9",
   "metadata": {},
   "outputs": [],
   "source": []
  }
 ],
 "metadata": {
  "kernelspec": {
   "display_name": "Python 3 (ipykernel)",
   "language": "python",
   "name": "python3"
  },
  "language_info": {
   "codemirror_mode": {
    "name": "ipython",
    "version": 3
   },
   "file_extension": ".py",
   "mimetype": "text/x-python",
   "name": "python",
   "nbconvert_exporter": "python",
   "pygments_lexer": "ipython3",
   "version": "3.7.12"
  }
 },
 "nbformat": 4,
 "nbformat_minor": 5
}
